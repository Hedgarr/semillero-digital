{
 "cells": [
  {
   "cell_type": "code",
   "execution_count": 1,
   "metadata": {},
   "outputs": [],
   "source": [
    "import os\n",
    "from dotenv import load_dotenv\n",
    "\n",
    "load_dotenv()\n",
    "\n",
    "OPENAI_API_KEY=os.getenv('OPENAI_API_KEY')"
   ]
  },
  {
   "cell_type": "code",
   "execution_count": 2,
   "metadata": {},
   "outputs": [],
   "source": [
    "from langchain_openai import ChatOpenAI #openai chatbot\n",
    "from langchain_core.prompts import ChatPromptTemplate #template for chat prompts\n",
    "from langchain_core.output_parsers import StrOutputParser #output parser for string output "
   ]
  },
  {
   "cell_type": "code",
   "execution_count": 5,
   "metadata": {},
   "outputs": [],
   "source": [
    "# we will need different imports for this task. Here are all of them together \n",
    "from langchain.chains.summarize import load_summarize_chain\n",
    "from langchain_community.document_loaders import WebBaseLoader\n",
    "from langchain_openai import ChatOpenAI\n",
    "\n",
    "# Stuff imports \n",
    "from langchain.chains.combine_documents.stuff import StuffDocumentsChain\n",
    "from langchain.chains.llm import LLMChain\n",
    "from langchain.prompts import PromptTemplate\n",
    "\n",
    "#map reduce imports \n",
    "from langchain.chains import MapReduceDocumentsChain, ReduceDocumentsChain\n",
    "from langchain.text_splitter import CharacterTextSplitter"
   ]
  },
  {
   "cell_type": "code",
   "execution_count": 8,
   "metadata": {},
   "outputs": [],
   "source": [
    "loader = WebBaseLoader(\"https://www.utesa.edu/home/acerca.php#Descargables\")\n",
    "docs = loader.load()\n",
    "\n",
    "llm = ChatOpenAI(model='gpt-4-turbo', temperature=0.5)\n",
    "chain = load_summarize_chain(llm, chain_type=\"stuff\")"
   ]
  },
  {
   "cell_type": "code",
   "execution_count": 38,
   "metadata": {},
   "outputs": [],
   "source": [
    "import requests\n",
    "from bs4 import BeautifulSoup\n",
    "\n",
    "# URL de la página web que quieres descargar\n",
    "url = 'https://www.utesa.edu/home/acerca.php#Descargables'\n",
    "\n",
    "# Descargar el contenido HTML de la página\n",
    "response = requests.get(url)\n",
    "\n",
    "# Crear un objeto BeautifulSoup con el contenido HTML\n",
    "soup = BeautifulSoup(response.text, 'html.parser')\n",
    "\n",
    "# Extraer todo el texto de la página\n",
    "text = soup.get_text()\n",
    "\n",
    "prompt_temp = ChatPromptTemplate.from_template(\n",
    "    \"Toma de https://www.utesa.edu/home/, toma la informacion y resumela.:\\n{text}\"\n",
    "    \"Translate {text} to {language}\")\n",
    "\n",
    "llm = ChatOpenAI()\n",
    "output_parser = StrOutputParser()\n",
    "chain = prompt_temp | llm | output_parser"
   ]
  },
  {
   "cell_type": "code",
   "execution_count": 42,
   "metadata": {},
   "outputs": [
    {
     "name": "stdout",
     "output_type": "stream",
     "text": [
      "El Reglamento Académico de la Universidad Tecnológica de Santiago (UTESA) establece las normas y procedimientos que regulan la vida académica de la institución. Incluye disposiciones sobre la matrícula, la asistencia a clases, la evaluación de los estudiantes, los requisitos para obtener títulos y certificados, entre otros aspectos. Es importante que los estudiantes conozcan y cumplan con este reglamento para garantizar su buen desempeño académico.\n"
     ]
    }
   ],
   "source": [
    "# invoke \n",
    "resp = chain.invoke({\"text\" : \" Reglamento Academico \", \"language\" : \" es \"})\n",
    "print(resp)"
   ]
  }
 ],
 "metadata": {
  "kernelspec": {
   "display_name": "base",
   "language": "python",
   "name": "python3"
  },
  "language_info": {
   "codemirror_mode": {
    "name": "ipython",
    "version": 3
   },
   "file_extension": ".py",
   "mimetype": "text/x-python",
   "name": "python",
   "nbconvert_exporter": "python",
   "pygments_lexer": "ipython3",
   "version": "3.11.7"
  }
 },
 "nbformat": 4,
 "nbformat_minor": 2
}
