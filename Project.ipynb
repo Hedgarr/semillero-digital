{
 "cells": [
  {
   "cell_type": "code",
   "execution_count": 2,
   "metadata": {},
   "outputs": [],
   "source": [
    "import os\n",
    "from dotenv import load_dotenv\n",
    "\n",
    "load_dotenv()\n",
    "\n",
    "OPENAI_API_KEY=os.getenv('OPENAI_API_KEY')"
   ]
  },
  {
   "cell_type": "code",
   "execution_count": 31,
   "metadata": {},
   "outputs": [],
   "source": [
    "# we will need different imports for this task. Here are all of them together \n",
    "from langchain.chains.summarize import load_summarize_chain\n",
    "from langchain_community.document_loaders import WebBaseLoader\n",
    "from langchain_openai import ChatOpenAI\n",
    "from IPython.display import display, Markdown, HTML "
   ]
  },
  {
   "cell_type": "code",
   "execution_count": 32,
   "metadata": {},
   "outputs": [],
   "source": [
    "loader = WebBaseLoader(\"https://www.utesa.edu/home/acerca.php#Descargables\")\n",
    "docs = loader.load()\n",
    "\n",
    "llm = ChatOpenAI(model='gpt-4-turbo', temperature=0.5)\n",
    "chain = load_summarize_chain(llm, chain_type=\"stuff\")"
   ]
  },
  {
   "cell_type": "code",
   "execution_count": 33,
   "metadata": {},
   "outputs": [],
   "source": [
    "import requests\n",
    "from bs4 import BeautifulSoup\n",
    "\n",
    "# URL de la página web que quieres descargar\n",
    "url = 'https://www.utesa.edu/home/'\n",
    "\n",
    "# Descargar el contenido HTML de la página\n",
    "response = requests.get(url)\n",
    "\n",
    "# Crear un objeto BeautifulSoup con el contenido HTML\n",
    "soup = BeautifulSoup(response.text, 'html.parser')\n",
    "\n",
    "# Extraer todo el texto de la página\n",
    "text = soup.get_text()\n",
    "\n",
    "prompt_temp = ChatPromptTemplate.from_template(\n",
    "    \"Toma de https://www.utesa.edu/home/, toma la informacion y resumela.:\\n{text}\"\n",
    "    )\n",
    "\n",
    "llm = ChatOpenAI()\n",
    "output_parser = StrOutputParser()\n",
    "chain = prompt_temp | llm | output_parser"
   ]
  },
  {
   "cell_type": "code",
   "execution_count": 37,
   "metadata": {},
   "outputs": [
    {
     "data": {
      "text/markdown": [
       "UTESA cuenta con varias empresas que forman parte de su grupo empresarial, entre las cuales se encuentran:\n",
       "\n",
       "1. UTESA Soluciones Empresariales: Ofrece servicios de consultoría y asesoría a empresas en diversas áreas como gestión de recursos humanos, marketing, finanzas, entre otros.\n",
       "\n",
       "2. UTESA Consultores: Brinda servicios de consultoría en el área de ingeniería, arquitectura y construcción.\n",
       "\n",
       "3. UTESA Tecnología: Se encarga de ofrecer soluciones tecnológicas a empresas en áreas como desarrollo de software, diseño web, marketing digital, entre otros.\n",
       "\n",
       "4. UTESA Cultural: Promueve actividades culturales y educativas a través de eventos, conferencias, exposiciones y publicaciones.\n",
       "\n",
       "Estas empresas complementan la labor educativa de UTESA y brindan servicios especializados a empresas y organizaciones en diferentes sectores."
      ],
      "text/plain": [
       "<IPython.core.display.Markdown object>"
      ]
     },
     "metadata": {},
     "output_type": "display_data"
    }
   ],
   "source": [
    "# invoke \n",
    "resp = chain.invoke({\"text\" : \" que otras empresas tiene utesa? \"})\n",
    "display(Markdown(resp))"
   ]
  },
  {
   "cell_type": "code",
   "execution_count": null,
   "metadata": {},
   "outputs": [],
   "source": []
  }
 ],
 "metadata": {
  "kernelspec": {
   "display_name": "base",
   "language": "python",
   "name": "python3"
  },
  "language_info": {
   "codemirror_mode": {
    "name": "ipython",
    "version": 3
   },
   "file_extension": ".py",
   "mimetype": "text/x-python",
   "name": "python",
   "nbconvert_exporter": "python",
   "pygments_lexer": "ipython3",
   "version": "3.11.7"
  }
 },
 "nbformat": 4,
 "nbformat_minor": 2
}
